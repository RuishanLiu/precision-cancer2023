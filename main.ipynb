{
 "cells": [
  {
   "cell_type": "markdown",
   "id": "lesbian-browse",
   "metadata": {},
   "source": [
    "# Precision-cancer\n",
    "\n",
    "Packages:\n",
    "Numpy version: 1.20.0;\n",
    "Pandas version: 1.2.1;\n",
    "scikit-learn version: 0.24.1;\n",
    "lifelines version: 0.27.8;\n",
    "scikit-survival version: 0.22.2: "
   ]
  },
  {
   "cell_type": "code",
   "execution_count": 1,
   "id": "strategic-output",
   "metadata": {},
   "outputs": [],
   "source": [
    "import pandas as pd\n",
    "import numpy as np\n",
    "from lifelines import CoxPHFitter, KaplanMeierFitter\n",
    "from sklearn.linear_model import LogisticRegression\n",
    "from sksurv.ensemble import RandomSurvivalForest\n",
    "import warnings\n",
    "warnings.simplefilter(action='ignore')"
   ]
  },
  {
   "cell_type": "markdown",
   "id": "neural-mention",
   "metadata": {},
   "source": [
    "## Load Synthetic Data\n",
    "\n",
    "For this notebook, we use synthetic data in \"synthetic_data.csv\" as a demonstration of our pipeline. It includes the following features -\n",
    "- Confounders. We note that here is one toy example. In real applications, more confounders and more categories should be included.\n",
    "    - <font color=darkblue>*Gender*</font>: whether the patient is female (=1) or not (=0).\n",
    "    - <font color=darkblue>*Age*</font>: whether age >= 40 (=1) or not (=0).\n",
    "    - <font color=darkblue>*ECOG*</font>: whether ECOG >=3 (=1) or not (=0).\n",
    "- <font color=darkblue>*Mutation status*</font> for Gene A, Gene B, Gene C, Gene D, and Gene E.\n",
    "    - Whether the gene is mutated (=1) or not (=0).\n",
    "- <font color=darkblue>*Treatment status*</font> for Treatment 1 and Treatment 2.\n",
    "    - Whether the patient received the treatment (=1) or not (=0).\n",
    "- Survival information\n",
    "    - <font color=darkblue>*duration*</font>: time from start of treatment to event (days).\n",
    "    - <font color=darkblue>*event*</font>: death happened (=1) or right censored (=0)\n",
    "    - <font color=darkblue>*fmi_test*</font>: time from start of treatment to FMI test (days)."
   ]
  },
  {
   "cell_type": "code",
   "execution_count": 2,
   "id": "refined-poultry",
   "metadata": {},
   "outputs": [
    {
     "name": "stdout",
     "output_type": "stream",
     "text": [
      "Number of patients: 5000\n"
     ]
    },
    {
     "data": {
      "text/html": [
       "<div>\n",
       "<style scoped>\n",
       "    .dataframe tbody tr th:only-of-type {\n",
       "        vertical-align: middle;\n",
       "    }\n",
       "\n",
       "    .dataframe tbody tr th {\n",
       "        vertical-align: top;\n",
       "    }\n",
       "\n",
       "    .dataframe thead th {\n",
       "        text-align: right;\n",
       "    }\n",
       "</style>\n",
       "<table border=\"1\" class=\"dataframe\">\n",
       "  <thead>\n",
       "    <tr style=\"text-align: right;\">\n",
       "      <th></th>\n",
       "      <th>Female</th>\n",
       "      <th>Age &gt;= 40</th>\n",
       "      <th>ECOG &gt;= 3</th>\n",
       "      <th>Gene A</th>\n",
       "      <th>Gene B</th>\n",
       "      <th>Gene C</th>\n",
       "      <th>Gene D</th>\n",
       "      <th>Gene E</th>\n",
       "      <th>Treatment 1</th>\n",
       "      <th>Treatment 2</th>\n",
       "      <th>duration</th>\n",
       "      <th>event</th>\n",
       "      <th>fmi_test</th>\n",
       "    </tr>\n",
       "  </thead>\n",
       "  <tbody>\n",
       "    <tr>\n",
       "      <th>0</th>\n",
       "      <td>1</td>\n",
       "      <td>1</td>\n",
       "      <td>0</td>\n",
       "      <td>1</td>\n",
       "      <td>0</td>\n",
       "      <td>1</td>\n",
       "      <td>0</td>\n",
       "      <td>1</td>\n",
       "      <td>0</td>\n",
       "      <td>1</td>\n",
       "      <td>72</td>\n",
       "      <td>1</td>\n",
       "      <td>8</td>\n",
       "    </tr>\n",
       "    <tr>\n",
       "      <th>1</th>\n",
       "      <td>1</td>\n",
       "      <td>1</td>\n",
       "      <td>1</td>\n",
       "      <td>1</td>\n",
       "      <td>0</td>\n",
       "      <td>1</td>\n",
       "      <td>1</td>\n",
       "      <td>1</td>\n",
       "      <td>0</td>\n",
       "      <td>1</td>\n",
       "      <td>33</td>\n",
       "      <td>0</td>\n",
       "      <td>5</td>\n",
       "    </tr>\n",
       "    <tr>\n",
       "      <th>2</th>\n",
       "      <td>1</td>\n",
       "      <td>1</td>\n",
       "      <td>1</td>\n",
       "      <td>0</td>\n",
       "      <td>0</td>\n",
       "      <td>1</td>\n",
       "      <td>1</td>\n",
       "      <td>1</td>\n",
       "      <td>1</td>\n",
       "      <td>0</td>\n",
       "      <td>41</td>\n",
       "      <td>1</td>\n",
       "      <td>28</td>\n",
       "    </tr>\n",
       "    <tr>\n",
       "      <th>3</th>\n",
       "      <td>0</td>\n",
       "      <td>0</td>\n",
       "      <td>1</td>\n",
       "      <td>1</td>\n",
       "      <td>0</td>\n",
       "      <td>1</td>\n",
       "      <td>0</td>\n",
       "      <td>0</td>\n",
       "      <td>0</td>\n",
       "      <td>1</td>\n",
       "      <td>343</td>\n",
       "      <td>0</td>\n",
       "      <td>9</td>\n",
       "    </tr>\n",
       "    <tr>\n",
       "      <th>4</th>\n",
       "      <td>0</td>\n",
       "      <td>0</td>\n",
       "      <td>1</td>\n",
       "      <td>0</td>\n",
       "      <td>1</td>\n",
       "      <td>0</td>\n",
       "      <td>1</td>\n",
       "      <td>0</td>\n",
       "      <td>1</td>\n",
       "      <td>0</td>\n",
       "      <td>126</td>\n",
       "      <td>1</td>\n",
       "      <td>27</td>\n",
       "    </tr>\n",
       "  </tbody>\n",
       "</table>\n",
       "</div>"
      ],
      "text/plain": [
       "   Female  Age >= 40  ECOG >= 3  Gene A  Gene B  Gene C  Gene D  Gene E  \\\n",
       "0       1          1          0       1       0       1       0       1   \n",
       "1       1          1          1       1       0       1       1       1   \n",
       "2       1          1          1       0       0       1       1       1   \n",
       "3       0          0          1       1       0       1       0       0   \n",
       "4       0          0          1       0       1       0       1       0   \n",
       "\n",
       "   Treatment 1  Treatment 2  duration  event  fmi_test  \n",
       "0            0            1        72      1         8  \n",
       "1            0            1        33      0         5  \n",
       "2            1            0        41      1        28  \n",
       "3            0            1       343      0         9  \n",
       "4            1            0       126      1        27  "
      ]
     },
     "execution_count": 2,
     "metadata": {},
     "output_type": "execute_result"
    }
   ],
   "source": [
    "data_cox = pd.read_csv('synthetic_data.csv')\n",
    "print('Number of patients: %d' % data_cox.shape[0])\n",
    "cols_basic = ['duration', 'event', 'fmi_test'] # Basic infomation for survival analysis\n",
    "confounders = ['Female', 'Age >= 40', 'ECOG >= 3'] # Confounders\n",
    "data_cox.head()"
   ]
  },
  {
   "cell_type": "markdown",
   "id": "super-designation",
   "metadata": {},
   "source": [
    "## Analysis"
   ]
  },
  {
   "cell_type": "code",
   "execution_count": 3,
   "id": "centered-vocabulary",
   "metadata": {},
   "outputs": [],
   "source": [
    "def process_HR(cph_summary, name_feature):\n",
    "    '''\n",
    "    Process result of CoxPH model to HR with 95% confidence intervals.\n",
    "    '''\n",
    "    result = cph_summary.loc[name_feature, ['exp(coef)', 'exp(coef) lower 95%', 'exp(coef) upper 95%']].values\n",
    "    HR = '%.2f (%.2f, %.2f)' % tuple(result)   \n",
    "    return HR\n",
    "    \n",
    "def Cox_IPTW(data_fit, name_feature):\n",
    "    '''\n",
    "    Uni-covariate CoxPH model with IPTW and left-truncation. \n",
    "    name_feature is the feature we are interested in (e.g., gene name or treatment name).\n",
    "    Return the HR for name_feature.\n",
    "    '''\n",
    "    # Generate data used in Cox Regression with IPTW Weights\n",
    "    data_confounders = data_fit.iloc[:, 3:].copy().drop(columns=[name_feature])\n",
    "    df = pd.concat([data_fit.iloc[:, :3], data_fit[[name_feature]]], axis=1)\n",
    "    X = data_confounders.values\n",
    "    y = data_fit[name_feature].values\n",
    "    model = LogisticRegression(solver='lbfgs', n_jobs=-1, class_weight='balanced')\n",
    "    model.fit(X, y)\n",
    "    p_treated = float(np.sum(y==1))/y.shape[0]\n",
    "    propensity_scores = model.predict_proba(X)[:, 1]\n",
    "    df['weights'] = 0\n",
    "    IP_treated = 1 / propensity_scores\n",
    "    IP_untreated = 1 / (1 - propensity_scores)        \n",
    "    df.loc[df[name_feature]==1, 'weights'] = IP_treated[df[name_feature]==1]\n",
    "    df.loc[df[name_feature]==0, 'weights'] = IP_untreated[df[name_feature]==0]    \n",
    "    # Cox Regression\n",
    "    cph = CoxPHFitter()\n",
    "    cph.fit(df, 'duration', 'event', weights_col='weights', entry_col='fmi_test', robust=True)\n",
    "    HR = process_HR(cph.summary, name_feature)\n",
    "    return HR"
   ]
  },
  {
   "cell_type": "markdown",
   "id": "tough-drunk",
   "metadata": {},
   "source": [
    "### 1. Association between mutations and patient survival.\n",
    "\n",
    "Here we study the prognostic effects of mutations in Gene A on overall survival (OS) and report the OS HR."
   ]
  },
  {
   "cell_type": "code",
   "execution_count": 4,
   "id": "bored-soldier",
   "metadata": {},
   "outputs": [
    {
     "name": "stdout",
     "output_type": "stream",
     "text": [
      "OS HR for Gene A: 1.10 (1.03, 1.17)\n"
     ]
    }
   ],
   "source": [
    "data_fit = data_cox[cols_basic+confounders+['Gene A']]\n",
    "HR = Cox_IPTW(data_fit, 'Gene A')\n",
    "print('OS HR for Gene A: %s' % (HR))"
   ]
  },
  {
   "cell_type": "markdown",
   "id": "varied-funds",
   "metadata": {},
   "source": [
    "### 2. Gene-treatment interactions\n",
    "\n",
    "Here we use analyze the interaction between mutations of Gene A and Treatment 1."
   ]
  },
  {
   "cell_type": "code",
   "execution_count": 5,
   "id": "separate-oklahoma",
   "metadata": {},
   "outputs": [],
   "source": [
    "gene = 'Gene A'\n",
    "treatment = 'Treatment 1'"
   ]
  },
  {
   "cell_type": "markdown",
   "id": "imperial-meter",
   "metadata": {},
   "source": [
    "##### Interaction\n",
    "\n",
    "Interaction: exp(coef) for the drug-treatment interaction term in the Cox model, adjusted by patient confounders."
   ]
  },
  {
   "cell_type": "code",
   "execution_count": 6,
   "id": "false-innocent",
   "metadata": {},
   "outputs": [
    {
     "name": "stdout",
     "output_type": "stream",
     "text": [
      "Interaction between Gene A and Treatment 1 is 0.68 (0.60, 0.77)\n"
     ]
    }
   ],
   "source": [
    "data_fit = data_cox[cols_basic+[gene, treatment]]\n",
    "col_inter = '%s+%s'%(gene, treatment)\n",
    "data_fit[col_inter] = data_fit[gene]*data_fit[treatment]\n",
    "cph = CoxPHFitter()\n",
    "cph.fit(data_fit, 'duration', 'event', entry_col='fmi_test', robust=True)\n",
    "HR = process_HR(cph.summary, col_inter)\n",
    "print('Interaction between Gene A and Treatment 1 is %s' % HR)"
   ]
  },
  {
   "cell_type": "markdown",
   "id": "norwegian-maryland",
   "metadata": {},
   "source": [
    "##### Gene-centric\n",
    "- <font color=darkblue>*HR for gene mutation*</font>: for all patients with mutations of Gene A, OS HR for patients who received Treatment 1 vs. patients who did not take Treatment 1.\n",
    "- <font color=darkblue>*HR for absence of gene mutation*</font>: for all patients *without* mutations of Gene A, OS HR for patients who received Treatment 1 vs. patients who did not take Treatment 1."
   ]
  },
  {
   "cell_type": "code",
   "execution_count": 7,
   "id": "impossible-defeat",
   "metadata": {},
   "outputs": [
    {
     "name": "stdout",
     "output_type": "stream",
     "text": [
      "Treatment HR for patients with mutations of Gene A = 0.76 (0.69, 0.84)\n",
      "Treatment HR for patients without mutations of Gene A = 1.15 (1.06, 1.25)\n"
     ]
    }
   ],
   "source": [
    "data_fit = data_cox.loc[data_cox[gene]==1, cols_basic+confounders+[treatment]].copy()\n",
    "HR = Cox_IPTW(data_fit, treatment)\n",
    "print('Treatment HR for patients with mutations of Gene A = %s' % HR)\n",
    "\n",
    "data_fit = data_cox.loc[data_cox[gene]==0, cols_basic+confounders+[treatment]].copy()\n",
    "HR = Cox_IPTW(data_fit, treatment)\n",
    "print('Treatment HR for patients without mutations of Gene A = %s' % HR)"
   ]
  },
  {
   "cell_type": "markdown",
   "id": "pleased-miller",
   "metadata": {},
   "source": [
    "##### Drug-centric\n",
    "\n",
    "- <font color=darkblue>*HR given drug*</font>: for all patients who received Treatment 1, HR for patients with mutations of Gene A vs. patients without mutations of Gene A.\n",
    "- <font color=darkblue>*HR given other drugs*</font>: for all patients who received other treatments, HR for patients with mutations of Gene A vs. patients without mutations of Gene A."
   ]
  },
  {
   "cell_type": "code",
   "execution_count": 8,
   "id": "spread-ground",
   "metadata": {},
   "outputs": [
    {
     "name": "stdout",
     "output_type": "stream",
     "text": [
      "Gene A mutation HR for patients who received Treatment 1 = 0.92 (0.85, 1.01)\n",
      "Gene A mutation HR for patients who didn't receive Treatment 1 = 1.37 (1.25, 1.51)\n"
     ]
    }
   ],
   "source": [
    "data_fit = data_cox.loc[data_cox[treatment]==1, cols_basic+confounders+[gene]].copy()\n",
    "HR = Cox_IPTW(data_fit, gene)\n",
    "print('Gene A mutation HR for patients who received Treatment 1 = %s' % HR)\n",
    "\n",
    "data_fit = data_cox.loc[data_cox[treatment]==0, cols_basic+confounders+[gene]].copy()\n",
    "HR = Cox_IPTW(data_fit, gene)\n",
    "print('Gene A mutation HR for patients who didn\\'t receive Treatment 1 = %s' % HR)"
   ]
  },
  {
   "cell_type": "markdown",
   "id": "understanding-sense",
   "metadata": {},
   "source": [
    "### 3. Pathway-mutation interactions\n",
    "\n",
    "Here we study the pathway-mutation interactions. A pathway was considered mutated if any gene within that pathway was mutated. Here we suppose Pathway 1 corresponds to Gene A, Gene B, and Gene C.\n"
   ]
  },
  {
   "cell_type": "code",
   "execution_count": 9,
   "id": "undefined-joshua",
   "metadata": {},
   "outputs": [
    {
     "name": "stdout",
     "output_type": "stream",
     "text": [
      "Interaction between Pathway 1 and Treatment 1 is 0.59 (0.45, 0.76)\n"
     ]
    }
   ],
   "source": [
    "pathway = 'Pathway 1'\n",
    "genes_pathway = ['Gene A', 'Gene B', 'Gene C']\n",
    "\n",
    "data_fit = data_cox.copy()\n",
    "data_fit[pathway] = (data_fit[genes_pathway].sum(axis=1) > 0).astype(int)\n",
    "\n",
    "data_fit = data_fit[cols_basic+[pathway, treatment]]\n",
    "col_inter = '%s+%s'%(pathway, treatment)\n",
    "data_fit[col_inter] = data_fit[pathway]*data_fit[treatment]\n",
    "cph = CoxPHFitter()\n",
    "cph.fit(data_fit, 'duration', 'event', entry_col='fmi_test', robust=True)\n",
    "HR = process_HR(cph.summary, col_inter)\n",
    "print('Interaction between %s and Treatment 1 is %s' % (pathway, HR))"
   ]
  },
  {
   "cell_type": "markdown",
   "id": "romantic-assignment",
   "metadata": {},
   "source": [
    "### 4. RSF score for treatment\n",
    "\n",
    "Here we compute the binary RSF score for treatment 1. \n",
    "\n",
    "We developed the Random Survival Forest (RSF) algorithm to predict patient survival time from the patient genomics profile. \n",
    "\n",
    "The binary RSF score is 1 (i.e. high) if the predicted survival time with given treatment is longer than the predicted survival time without the given treatment for each patient, and 0 (i.e. low) if vice versa."
   ]
  },
  {
   "cell_type": "code",
   "execution_count": 10,
   "id": "occupied-wireless",
   "metadata": {},
   "outputs": [
    {
     "data": {
      "text/html": [
       "<div>\n",
       "<style scoped>\n",
       "    .dataframe tbody tr th:only-of-type {\n",
       "        vertical-align: middle;\n",
       "    }\n",
       "\n",
       "    .dataframe tbody tr th {\n",
       "        vertical-align: top;\n",
       "    }\n",
       "\n",
       "    .dataframe thead th {\n",
       "        text-align: right;\n",
       "    }\n",
       "</style>\n",
       "<table border=\"1\" class=\"dataframe\">\n",
       "  <thead>\n",
       "    <tr style=\"text-align: right;\">\n",
       "      <th></th>\n",
       "      <th>Female</th>\n",
       "      <th>Age &gt;= 40</th>\n",
       "      <th>ECOG &gt;= 3</th>\n",
       "      <th>Gene A</th>\n",
       "      <th>Gene B</th>\n",
       "      <th>Gene C</th>\n",
       "      <th>Gene D</th>\n",
       "      <th>Gene E</th>\n",
       "      <th>Treatment 1</th>\n",
       "      <th>Treatment 2</th>\n",
       "      <th>duration</th>\n",
       "      <th>event</th>\n",
       "      <th>fmi_test</th>\n",
       "      <th>RSF Score</th>\n",
       "    </tr>\n",
       "  </thead>\n",
       "  <tbody>\n",
       "    <tr>\n",
       "      <th>5</th>\n",
       "      <td>1</td>\n",
       "      <td>0</td>\n",
       "      <td>1</td>\n",
       "      <td>0</td>\n",
       "      <td>0</td>\n",
       "      <td>1</td>\n",
       "      <td>1</td>\n",
       "      <td>0</td>\n",
       "      <td>0</td>\n",
       "      <td>1</td>\n",
       "      <td>85</td>\n",
       "      <td>1</td>\n",
       "      <td>20</td>\n",
       "      <td>0</td>\n",
       "    </tr>\n",
       "    <tr>\n",
       "      <th>7</th>\n",
       "      <td>0</td>\n",
       "      <td>1</td>\n",
       "      <td>0</td>\n",
       "      <td>0</td>\n",
       "      <td>0</td>\n",
       "      <td>1</td>\n",
       "      <td>1</td>\n",
       "      <td>0</td>\n",
       "      <td>0</td>\n",
       "      <td>1</td>\n",
       "      <td>156</td>\n",
       "      <td>1</td>\n",
       "      <td>38</td>\n",
       "      <td>0</td>\n",
       "    </tr>\n",
       "    <tr>\n",
       "      <th>8</th>\n",
       "      <td>0</td>\n",
       "      <td>1</td>\n",
       "      <td>0</td>\n",
       "      <td>0</td>\n",
       "      <td>1</td>\n",
       "      <td>1</td>\n",
       "      <td>1</td>\n",
       "      <td>0</td>\n",
       "      <td>0</td>\n",
       "      <td>1</td>\n",
       "      <td>275</td>\n",
       "      <td>1</td>\n",
       "      <td>8</td>\n",
       "      <td>0</td>\n",
       "    </tr>\n",
       "    <tr>\n",
       "      <th>17</th>\n",
       "      <td>1</td>\n",
       "      <td>0</td>\n",
       "      <td>1</td>\n",
       "      <td>0</td>\n",
       "      <td>0</td>\n",
       "      <td>0</td>\n",
       "      <td>1</td>\n",
       "      <td>0</td>\n",
       "      <td>1</td>\n",
       "      <td>0</td>\n",
       "      <td>47</td>\n",
       "      <td>1</td>\n",
       "      <td>25</td>\n",
       "      <td>0</td>\n",
       "    </tr>\n",
       "    <tr>\n",
       "      <th>19</th>\n",
       "      <td>1</td>\n",
       "      <td>0</td>\n",
       "      <td>1</td>\n",
       "      <td>0</td>\n",
       "      <td>1</td>\n",
       "      <td>0</td>\n",
       "      <td>0</td>\n",
       "      <td>0</td>\n",
       "      <td>1</td>\n",
       "      <td>0</td>\n",
       "      <td>32</td>\n",
       "      <td>1</td>\n",
       "      <td>22</td>\n",
       "      <td>1</td>\n",
       "    </tr>\n",
       "  </tbody>\n",
       "</table>\n",
       "</div>"
      ],
      "text/plain": [
       "    Female  Age >= 40  ECOG >= 3  Gene A  Gene B  Gene C  Gene D  Gene E  \\\n",
       "5        1          0          1       0       0       1       1       0   \n",
       "7        0          1          0       0       0       1       1       0   \n",
       "8        0          1          0       0       1       1       1       0   \n",
       "17       1          0          1       0       0       0       1       0   \n",
       "19       1          0          1       0       1       0       0       0   \n",
       "\n",
       "    Treatment 1  Treatment 2  duration  event  fmi_test  RSF Score  \n",
       "5             0            1        85      1        20          0  \n",
       "7             0            1       156      1        38          0  \n",
       "8             0            1       275      1         8          0  \n",
       "17            1            0        47      1        25          0  \n",
       "19            1            0        32      1        22          1  "
      ]
     },
     "execution_count": 10,
     "metadata": {},
     "output_type": "execute_result"
    }
   ],
   "source": [
    "def generate_RSF_data(data_cox, genes):\n",
    "    '''\n",
    "    Transform the data into the form to feed into the random survival forest:\n",
    "        X: mutation status profile (genes)\n",
    "        y: survival outcome\n",
    "    '''\n",
    "    # We predict the survival time only from the mutation status\n",
    "    X = data_cox[genes].values\n",
    "    y = [] \n",
    "    for idx in data_cox.index:\n",
    "        event = True if data_cox.loc[idx, 'event']==1 else False\n",
    "        y.append((event, data_cox.loc[idx, 'duration']))\n",
    "    y = np.array(y, dtype=[('cens', '?'), ('time', '<f8')])\n",
    "    y = np.array(y)\n",
    "    return X, y\n",
    "\n",
    "\n",
    "def fit_RSF(data_cox, genes):\n",
    "    '''\n",
    "    Fit RSF model to predict survival time from the mutation status of genes.\n",
    "    '''\n",
    "    X, y = generate_RSF_data(data_cox, genes)\n",
    "    rsf = RandomSurvivalForest(n_estimators=20,\n",
    "                               min_samples_split=10,\n",
    "                               min_samples_leaf=15, \n",
    "                               max_features=\"sqrt\",\n",
    "                               n_jobs=-1,\n",
    "                               random_state=1001)\n",
    "    rsf.fit(X, y)\n",
    "    return rsf\n",
    "\n",
    "def predict_RSF(data_cox, genes, rsf):\n",
    "    '''\n",
    "    Retrieve the predicted survival time, given mutation status of genes and RSF model rsf.\n",
    "    '''\n",
    "    X, y = generate_RSF_data(data_cox, genes)\n",
    "    return rsf.predict(X)\n",
    "\n",
    "\n",
    "treatment = 'Treatment 1'\n",
    "genes = ['Gene A', 'Gene B', 'Gene C', 'Gene D', 'Gene E']\n",
    "\n",
    "# Train-test split\n",
    "train_size = 0.7\n",
    "np.random.seed(1001)\n",
    "index_train = np.random.choice(data_cox.index, int(train_size*data_cox.shape[0]), replace=False)\n",
    "data_fit_train = data_cox.loc[index_train].copy()\n",
    "data_fit_test = data_cox.loc[~data_cox.index.isin(index_train)].copy()\n",
    "\n",
    "# Fit RSF model\n",
    "rsf_treatment = fit_RSF(data_fit_train.loc[data_fit_train[treatment]==1], genes)\n",
    "rsf_nontreatment = fit_RSF(data_fit_train.loc[data_fit_train[treatment]==0], genes)\n",
    "\n",
    "# On test data, compute the survival time\n",
    "time_treatment = predict_RSF(data_fit_test, genes, rsf_treatment)\n",
    "time_nontreatment = predict_RSF(data_fit_test, genes, rsf_nontreatment)\n",
    "\n",
    "# Compute the binary RSF score\n",
    "data_fit_test['RSF Score'] = (time_treatment < time_nontreatment).astype(int)\n",
    "\n",
    "data_fit_test.head()"
   ]
  },
  {
   "cell_type": "code",
   "execution_count": 11,
   "id": "requested-wellington",
   "metadata": {},
   "outputs": [
    {
     "name": "stdout",
     "output_type": "stream",
     "text": [
      "On test data, treatment HR for patients with RSF Score High = 0.75 (0.60, 0.94)\n",
      "On test data, treatment HR for patients with RSF Score High = 1.15 (1.00, 1.33)\n"
     ]
    }
   ],
   "source": [
    "# Evaluation on test data\n",
    "\n",
    "df = data_fit_test.loc[data_fit_test['RSF Score']==1, cols_basic+confounders+[treatment]].copy()\n",
    "HR = Cox_IPTW(df, treatment)\n",
    "print('On test data, treatment HR for patients with RSF Score High = %s' % HR)\n",
    "\n",
    "df = data_fit_test.loc[data_fit_test['RSF Score']==0, cols_basic+confounders+[treatment]].copy()\n",
    "HR = Cox_IPTW(df, treatment)\n",
    "print('On test data, treatment HR for patients with RSF Score High = %s' % HR)"
   ]
  },
  {
   "cell_type": "code",
   "execution_count": null,
   "id": "parental-outdoors",
   "metadata": {},
   "outputs": [],
   "source": []
  }
 ],
 "metadata": {
  "kernelspec": {
   "display_name": "Python 3",
   "language": "python",
   "name": "python3"
  },
  "language_info": {
   "codemirror_mode": {
    "name": "ipython",
    "version": 3
   },
   "file_extension": ".py",
   "mimetype": "text/x-python",
   "name": "python",
   "nbconvert_exporter": "python",
   "pygments_lexer": "ipython3",
   "version": "3.8.6"
  }
 },
 "nbformat": 4,
 "nbformat_minor": 5
}
